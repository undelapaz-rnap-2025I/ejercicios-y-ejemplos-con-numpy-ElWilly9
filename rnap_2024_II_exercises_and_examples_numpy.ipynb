{
  "cells": [
    {
      "cell_type": "markdown",
      "metadata": {
        "id": "z9dathS_lkMu"
      },
      "source": [
        "# Aprendiendo y Practicanto Numpy con Ejemplo y Ejericios"
      ]
    },
    {
      "cell_type": "markdown",
      "metadata": {},
      "source": [
        "A continuacion veremos algunos ejempos de funciones las cuales nos podrian llegar a ser muy utiles al momento de trabajar con Numpy esto junto a una parte de elaboracion de ejercicios los cuales nos ayudaran a entender y visualizar el funcionamiento de esas herramientas en problemas reales."
      ]
    },
    {
      "cell_type": "markdown",
      "metadata": {},
      "source": [
        "Lo primero que debemos hacer es importar las librerias que vamos a utilizar, las cuales serian Numpy y Matplotlib, esta ultima nos ayudara con los graficos de los datos."
      ]
    },
    {
      "cell_type": "code",
      "execution_count": 2,
      "metadata": {},
      "outputs": [],
      "source": [
        "import numpy as np # ponemos np como alias de numpy y poderlo llamar mas facil   \n",
        "import matplotlib.pyplot as plt"
      ]
    },
    {
      "cell_type": "markdown",
      "metadata": {},
      "source": [
        "## Lo primero que veremos sera el **Basic Indexer**\n",
        "el cual nos permite visualizar en consola un elemento en especifico en un arreglo."
      ]
    },
    {
      "cell_type": "code",
      "execution_count": 50,
      "metadata": {
        "id": "JrciqVNelazN"
      },
      "outputs": [
        {
          "name": "stdout",
          "output_type": "stream",
          "text": [
            "30\n"
          ]
        }
      ],
      "source": [
        "arr = np.array([10, 20, 30, 40, 50])\n",
        "print(arr[2]) "
      ]
    },
    {
      "cell_type": "markdown",
      "metadata": {},
      "source": [
        "Como logramos observar el resultafo fue 30, ya que el indice 2 corresponde al tercer elemento de la lista, teniendo en cuenta de que las posiciones comienzan desdel el 0."
      ]
    },
    {
      "cell_type": "markdown",
      "metadata": {},
      "source": [
        "## Lo siguente que veremos sera el **Slicing**\n",
        "el cual nos ayudara a visualizar solamente un intervalo de elementos de un arreglo"
      ]
    },
    {
      "cell_type": "code",
      "execution_count": 51,
      "metadata": {},
      "outputs": [
        {
          "name": "stdout",
          "output_type": "stream",
          "text": [
            "[20 30 40]\n"
          ]
        }
      ],
      "source": [
        "arr = np.array([10, 20, 30, 40, 50])\n",
        "print(arr[1:4]) "
      ]
    },
    {
      "cell_type": "markdown",
      "metadata": {},
      "source": [
        "Como pudimos ver, pudimos ver como acceder a un conjunto de elementos o a un rango de elementos de un array.\n",
        "\n",
        "## Ahora veremos los **Indexings en arreglos en 2D**."
      ]
    },
    {
      "cell_type": "code",
      "execution_count": 52,
      "metadata": {},
      "outputs": [
        {
          "name": "stdout",
          "output_type": "stream",
          "text": [
            "6\n"
          ]
        }
      ],
      "source": [
        "arr = np.array([[1, 2, 3], [4, 5, 6], [7, 8, 9]])\n",
        "print(arr[1, 2]) "
      ]
    },
    {
      "cell_type": "markdown",
      "metadata": {},
      "source": [
        "Lo que nos quiere decir el 2D array es que en una matriz nxm podemos dar una instruccion de impresion en consola del elemento que se encuentra en la posicion 1 (filas), 2 (columnas).\n",
        "\n",
        "## Lo siguiente que veremos sera el **Slicing en un 2D array**."
      ]
    },
    {
      "cell_type": "code",
      "execution_count": 53,
      "metadata": {},
      "outputs": [
        {
          "name": "stdout",
          "output_type": "stream",
          "text": [
            "[[2 3]\n",
            " [5 6]]\n"
          ]
        }
      ],
      "source": [
        "arr = np.array([[1, 2, 3], [4, 5, 6], [7, 8, 9]])\n",
        "print(arr[:2, 1:]) # Output: [[2 3] [5 6]]"
      ]
    },
    {
      "cell_type": "markdown",
      "metadata": {},
      "source": [
        "Aqui los que nos muestra es que nos mostrará todas las filas desde el inicio hasta la fila en posicion 2 y todas las columnas desde la columna 1 hasta el final.\n",
        "\n",
        "\n",
        "## Ahora lo veremos los **Indexing pero en Tensores 3D**"
      ]
    },
    {
      "cell_type": "code",
      "execution_count": 54,
      "metadata": {},
      "outputs": [
        {
          "name": "stdout",
          "output_type": "stream",
          "text": [
            "9\n",
            "[[ 7  8  9]\n",
            " [10 11 12]]\n"
          ]
        }
      ],
      "source": [
        "tensor = np.array([[[1, 2, 3], [4, 5, 6]],\n",
        "[[7, 8, 9], [10, 11, 12]],\n",
        "[[13, 14, 15], [16, 17, 18]]])\n",
        "\n",
        "# Access specific elements\n",
        "print(tensor[1, 0, 2])\n",
        "\n",
        "# Access an entire \"slice\" (2D submatrix)\n",
        "print(tensor[1]) "
      ]
    },
    {
      "cell_type": "markdown",
      "metadata": {},
      "source": [
        "Un tensor 3D en NumPy es básicamente un arreglo con 3 dimensiones. Puedes pensarlo como una lista de matrices (o una \"caja\" que contiene varias matrices 2D apiladas una encima de la otra).\n",
        "\n",
        "Por ejemplo, el tensor 3D que utilizamos en el codigo de arriba, se refiere a una especie de una matriz con 3 sub matrices de 2x3 cada una.\n",
        "\n",
        "La sintaxis para acceder al tensor es la siguiente:\n",
        "tensor[depth, row, col]\n",
        "\n",
        "Asi que segun lo atenrior el output que nos solto la consola anteriormente se refiere a:\n",
        "tensor[1, 0, 2] → segunda matriz, primera fila, tercera columna (uotput: 9)\n",
        "\n",
        "Como tambien podemos hacer que nos imprima todo el tensor que se encuentra en una posicion especifica.\n",
        "Tensor[1] → toda la matriz 2x3 ubicada en la posicion 1 de todo el arreglo (output: [[ 7  8  9]\n",
        " [10 11 12]])"
      ]
    },
    {
      "cell_type": "markdown",
      "metadata": {},
      "source": [
        "## Ahora veremos un **Slicing en Tensor 3D** (corte por secciones)"
      ]
    },
    {
      "cell_type": "code",
      "execution_count": 55,
      "metadata": {},
      "outputs": [
        {
          "name": "stdout",
          "output_type": "stream",
          "text": [
            "[[ 9 10 11]\n",
            " [12 13 14]\n",
            " [15 16 17]]\n",
            "[[ 3  4  5]\n",
            " [12 13 14]\n",
            " [21 22 23]]\n",
            "[[ 2  5  8]\n",
            " [11 14 17]\n",
            " [20 23 26]]\n"
          ]
        }
      ],
      "source": [
        "tensor = np.arange(27).reshape(3, 3, 3)\n",
        "# Slice along the first dimension\n",
        "print(tensor[1]) # Output: 3x3 submatrix\n",
        "# Slice along the second dimension\n",
        "print(tensor[:, 1, :]) # Output: 3x3 submatrix\n",
        "# Slice along the third dimension\n",
        "print(tensor[:, :, 2]) # Output: 3x3 submatrix"
      ]
    },
    {
      "cell_type": "markdown",
      "metadata": {},
      "source": [
        "En el código anterior, se crea un tensor con np.arange(27).reshape(3, 3, 3), es decir, 3 matrices de 3x3 con valores del 0 al 26.\n",
        "\n",
        "Cuando usamos tensor[1], accedemos a la segunda matriz completa del tensor (una submatriz 3x3). En cambio, tensor[:, 1, :] toma la segunda fila (índice 1) de todas las matrices, y las organiza en una nueva matriz 3x3. Por último, tensor[:, :, 2] selecciona la tercera columna de todas las matrices, también devolviendo una matriz 3x3.\n",
        "\n",
        "Este tipo de slicing nos permite extraer secciones específicas del tensor de forma rápida y eficiente.\n",
        "\n"
      ]
    },
    {
      "cell_type": "markdown",
      "metadata": {},
      "source": [
        "## 4D Tensor Indexing:"
      ]
    },
    {
      "cell_type": "code",
      "execution_count": 56,
      "metadata": {},
      "outputs": [
        {
          "name": "stdout",
          "output_type": "stream",
          "text": [
            "47\n",
            "[[40 41 42 43]\n",
            " [44 45 46 47]]\n"
          ]
        }
      ],
      "source": [
        "tensor = np.arange(48).reshape(2, 3, 2, 4)\n",
        "# Access specific elements\n",
        "print(tensor[1, 2, 1, 3]) # Output: 47\n",
        "# Access a whole \"block\" (3D sub-tensor)\n",
        "print(tensor[1, 2]) # Output: 2x4x3 sub-tensor"
      ]
    },
    {
      "cell_type": "markdown",
      "metadata": {},
      "source": [
        "Un tensor 4D en NumPy es un arreglo con cuatro dimensiones, que puedes imaginar como una colección de bloques 3D organizados en un eje extra. En el código anterior, se crea un tensor con np.arange(48).reshape(2, 3, 2, 4), lo que genera 2 bloques, cada uno con 3 matrices de 2x4, usando los números del 0 al 47.\n",
        "\n",
        "Cuando usamos tensor[1, 2, 1, 3], accedemos a un único elemento del tensor: el que está en el segundo bloque, tercera matriz, primera fila y cuarta columna. El valor obtenido en ese punto es 47.\n",
        "\n",
        "En cambio, con tensor[1, 2] accedemos a una subestructura completa dentro del tensor: una matriz de tamaño 2x4 que representa todas las filas y columnas de la tercera matriz del segundo bloque.\n",
        "\n",
        "Este tipo de indexado permite trabajar con estructuras complejas como secuencias de imágenes, datos volumétricos o entradas para redes neuronales, de forma clara y ordenada."
      ]
    },
    {
      "cell_type": "markdown",
      "metadata": {},
      "source": [
        "## Slicing a 4D Tensor:"
      ]
    },
    {
      "cell_type": "code",
      "execution_count": 57,
      "metadata": {},
      "outputs": [
        {
          "name": "stdout",
          "output_type": "stream",
          "text": [
            "[[[24 25 26 27]\n",
            "  [28 29 30 31]]\n",
            "\n",
            " [[32 33 34 35]\n",
            "  [36 37 38 39]]\n",
            "\n",
            " [[40 41 42 43]\n",
            "  [44 45 46 47]]]\n",
            "[[[16 17 18 19]\n",
            "  [20 21 22 23]]\n",
            "\n",
            " [[40 41 42 43]\n",
            "  [44 45 46 47]]]\n",
            "[[[ 0  1  2  3]\n",
            "  [ 8  9 10 11]\n",
            "  [16 17 18 19]]\n",
            "\n",
            " [[24 25 26 27]\n",
            "  [32 33 34 35]\n",
            "  [40 41 42 43]]]\n"
          ]
        }
      ],
      "source": [
        "tensor = np.arange(48).reshape(2, 3, 2, 4)\n",
        "# Slice along the first dimension\n",
        "\n",
        "print(tensor[1]) # Output: 3x2x4 sub-tensor\n",
        "# Slice along the second dimension\n",
        "print(tensor[:, 2, :, :]) # Output: 2x2x4 sub-tensor\n",
        "# Slice along the third dimension\n",
        "print(tensor[:, :, 0, :]) # Output: 2x3x4 sub-tensor"
      ]
    },
    {
      "cell_type": "markdown",
      "metadata": {},
      "source": [
        "En el ejemplo, np.arange(48).reshape(2, 3, 2, 4) crea un tensor con 2 bloques, cada uno con 3 matrices de 2x4.\n",
        "\n",
        "tensor[1] accede al segundo bloque completo, devolviendo un sub-tensor de forma 3x2x4.\n",
        "\n",
        "tensor[:, 2, :, :] extrae la tercera matriz (índice 2) de cada bloque, resultando en un sub-tensor 2x2x4.\n",
        "\n",
        "tensor[:, :, 0, :] toma la primera fila de todas las matrices en todos los bloques, formando un sub-tensor 2x3x4.\n",
        "\n",
        "Este slicing permite acceder a partes específicas del tensor de forma rápida y estructurada.\n",
        "\n"
      ]
    },
    {
      "cell_type": "markdown",
      "metadata": {},
      "source": [
        "## Matrix Addition:"
      ]
    },
    {
      "cell_type": "code",
      "execution_count": 58,
      "metadata": {},
      "outputs": [
        {
          "name": "stdout",
          "output_type": "stream",
          "text": [
            "[[ 6  8]\n",
            " [10 12]]\n"
          ]
        }
      ],
      "source": [
        "A = np.array([[1, 2], [3, 4]])\n",
        "B = np.array([[5, 6], [7, 8]])\n",
        "result = A + B\n",
        "print(result)"
      ]
    },
    {
      "cell_type": "markdown",
      "metadata": {},
      "source": [
        "La suma de matrices en NumPy se realiza elemento a elemento, siempre que ambas matrices tengan las mismas dimensiones. En el ejemplo, A y B son matrices de 2x2, y al sumarlas (A + B), cada elemento en la misma posición se suma entre sí, dando como resultado una nueva matriz: [[6, 8], [10, 12]]."
      ]
    },
    {
      "cell_type": "markdown",
      "metadata": {},
      "source": [
        "## Matrix Multiplication:"
      ]
    },
    {
      "cell_type": "code",
      "execution_count": 59,
      "metadata": {},
      "outputs": [
        {
          "name": "stdout",
          "output_type": "stream",
          "text": [
            "[[19 22]\n",
            " [43 50]]\n"
          ]
        }
      ],
      "source": [
        "A = np.array([[1, 2], [3, 4]])\n",
        "B = np.array([[5, 6], [7, 8]])\n",
        "result = np.dot(A, B)\n",
        "print(result)"
      ]
    },
    {
      "cell_type": "markdown",
      "metadata": {},
      "source": [
        "La multiplicación de matrices en NumPy se puede hacer con np.dot() o el operador @, y sigue las reglas del álgebra lineal. En este caso, A y B son matrices de 2x2, y su multiplicación da como resultado otra matriz 2x2: [[19, 22], [43, 50]]. Cada elemento se calcula multiplicando filas de A por columnas de B y sumando los productos."
      ]
    },
    {
      "cell_type": "markdown",
      "metadata": {},
      "source": [
        "## Transpose of a Matrix:"
      ]
    },
    {
      "cell_type": "code",
      "execution_count": 60,
      "metadata": {},
      "outputs": [
        {
          "name": "stdout",
          "output_type": "stream",
          "text": [
            "[[1 3]\n",
            " [2 4]]\n"
          ]
        }
      ],
      "source": [
        "A = np.array([[1, 2], [3, 4]])\n",
        "result = np.transpose(A)\n",
        "print(result)"
      ]
    },
    {
      "cell_type": "markdown",
      "metadata": {},
      "source": [
        "La transposición de una matriz en NumPy se hace con np.transpose(), lo cual invierte sus filas y columnas. En el ejemplo, la matriz A = [[1, 2], [3, 4]] se convierte en [[1, 3], [2, 4]], intercambiando filas por columnas. Es útil para operaciones como multiplicación de matrices o para alinear datos."
      ]
    },
    {
      "cell_type": "markdown",
      "metadata": {},
      "source": [
        "## Matrix Determinant and Inverse:"
      ]
    },
    {
      "cell_type": "code",
      "execution_count": 61,
      "metadata": {},
      "outputs": [
        {
          "name": "stdout",
          "output_type": "stream",
          "text": [
            "Determinant: -2.0000000000000004\n",
            "Inverse:\n",
            " [[-2.   1. ]\n",
            " [ 1.5 -0.5]]\n"
          ]
        }
      ],
      "source": [
        "A = np.array([[1, 2], [3, 4]])\n",
        "det = np.linalg.det(A)\n",
        "inverse = np.linalg.inv(A)\n",
        "print(\"Determinant:\", det)\n",
        "print(\"Inverse:\\n\", inverse)"
      ]
    },
    {
      "cell_type": "markdown",
      "metadata": {},
      "source": [
        "En NumPy, el determinante de una matriz se calcula con np.linalg.det(), y su inversa con np.linalg.inv(). En el ejemplo, para la matriz A = [[1, 2], [3, 4]], el determinante es -2.0, y la matriz inversa es [[ -2. , 1. ], [ 1.5, -0.5 ]]. Ademas tambien hay que tener en cuenta que la matriz inversa solo existe si el determinante es distinto de cero."
      ]
    },
    {
      "cell_type": "markdown",
      "metadata": {},
      "source": [
        "## Eigenvalues y Eigenvectors:"
      ]
    },
    {
      "cell_type": "code",
      "execution_count": 62,
      "metadata": {},
      "outputs": [
        {
          "name": "stdout",
          "output_type": "stream",
          "text": [
            "Eigenvalues: [2.00000002 1.99999998]\n",
            "Eigenvectors:\n",
            " [[-0.70710677 -0.70710679]\n",
            " [ 0.70710679  0.70710677]]\n"
          ]
        }
      ],
      "source": [
        "A = np.array([[1, -1], [1, 3]])\n",
        "eigenvalues, eigenvectors = np.linalg.eig(A)\n",
        "print(\"Eigenvalues:\", eigenvalues)\n",
        "print(\"Eigenvectors:\\n\", eigenvectors)"
      ]
    },
    {
      "cell_type": "markdown",
      "metadata": {},
      "source": [
        "En NumPy, los valores propios (eigenvalues) y los vectores propios (eigenvectors) de una matriz se obtienen con np.linalg.eig(). En este caso, para la matriz A = [[1, -1], [1, 3]], se calculan dos valores propios y sus vectores asociados. Los eigenvalues indican cuánto se estiran o encogen los vectores, y los eigenvectors son las direcciones que no cambian bajo la transformación de la matriz. "
      ]
    },
    {
      "cell_type": "markdown",
      "metadata": {},
      "source": [
        "## Solving Linear Equations:"
      ]
    },
    {
      "cell_type": "code",
      "execution_count": 63,
      "metadata": {},
      "outputs": [
        {
          "name": "stdout",
          "output_type": "stream",
          "text": [
            "Solution: [1. 1.]\n"
          ]
        }
      ],
      "source": [
        "A = np.array([[2, 1], [1, 1]])\n",
        "b = np.array([3, 2])\n",
        "solution = np.linalg.solve(A, b)\n",
        "print(\"Solution:\", solution)"
      ]
    },
    {
      "cell_type": "markdown",
      "metadata": {},
      "source": [
        "En NumPy, para resolver un sistema de ecuaciones lineales de la forma Ax = b, se usa np.linalg.solve(). En este ejemplo, A es la matriz de coeficientes y b es el vector de resultados. La función devuelve el vector x que satisface la ecuación. Para A = [[2, 1], [1, 1]] y b = [3, 2], la solución es [1.0, 1.0], lo que significa que x = 1 y y = 1 resuelven el sistema."
      ]
    },
    {
      "cell_type": "markdown",
      "metadata": {},
      "source": [
        "## Gradient descent optimization:\n",
        "\n",
        "Dado el conjunto de datos $X$ e $y$:\n",
        "\n",
        "$$\n",
        "X = \\begin{bmatrix} x(1) \\\\ x(2) \\\\ \\vdots \\\\ x(m) \\end{bmatrix}, \\quad y = \\begin{bmatrix} y(1) \\\\ y(2) \\\\ \\vdots \\\\ y(m) \\end{bmatrix}\n",
        "$$\n",
        "\n",
        "Donde $m$ es el número de muestras.\n",
        "\n",
        "El modelo de regresión lineal se define como:\n",
        "\n",
        "$$\n",
        "h_{\\theta}(x) = \\theta_0 + \\theta_1 x\n",
        "$$\n",
        "\n",
        "Añadimos un término de sesgo a las características, creando $X_b$:\n",
        "\n",
        "$$\n",
        "X_b = \\begin{bmatrix} 1 & x(1) \\\\ 1 & x(2) \\\\ \\vdots & \\vdots \\\\ 1 & x(m) \\end{bmatrix}\n",
        "$$\n",
        "\n",
        "El objetivo es minimizar el error cuadrático medio:\n",
        "\n",
        "$$\n",
        "J(\\theta) = \\frac{1}{2m} \\sum_{i=1}^{m} \\left( h_{\\theta}(x(i)) - y(i) \\right)^2\n",
        "$$\n",
        "\n",
        "El descenso de gradiente actualiza $\\theta$ usando los gradientes:\n",
        "\n",
        "$$\n",
        "\\theta := \\theta - \\alpha \\nabla J(\\theta)\n",
        "$$\n",
        "\n",
        "Donde $\\alpha$ es la tasa de aprendizaje.\n",
        "\n",
        "El gradiente $\\nabla J(\\theta)$ con respecto a $\\theta$ se calcula como:\n",
        "\n",
        "$$\n",
        "\\nabla J(\\theta) = \\frac{1}{m} X_b^T (X_b \\theta - y)\n",
        "$$\n",
        "\n",
        "Iteramos este proceso durante un número específico de iteraciones.\n",
        "\n",
        "Los parámetros optimizados finales son:\n",
        "\n",
        "$$\n",
        "\\theta = \\begin{bmatrix} \\theta_0 \\\\ \\theta_1 \\end{bmatrix}\n",
        "$$\n",
        "\n",
        "El proceso de optimización por descenso de gradiente puede ser codificado en Python como sigue:"
      ]
    },
    {
      "cell_type": "code",
      "execution_count": 64,
      "metadata": {},
      "outputs": [
        {
          "name": "stdout",
          "output_type": "stream",
          "text": [
            "Final theta: [[4.22215108]\n",
            " [2.96846751]]\n"
          ]
        }
      ],
      "source": [
        "# Generate some sample data\n",
        "np.random.seed(0)\n",
        "X = 2 * np.random.rand(100, 1)\n",
        "y = 4 + 3 * X + np.random.randn(100, 1)\n",
        "# Add bias term to X\n",
        "X_b = np.c_[np.ones((100, 1)), X]\n",
        "# Hyperparameters\n",
        "learning_rate = 0.1\n",
        "n_iterations = 1000\n",
        "# Initialize the parameters\n",
        "theta = np.random.randn(2, 1)\n",
        "# Gradient Descent\n",
        "for iteration in range(n_iterations):\n",
        "    gradients = 2 / 100 * X_b.T.dot(X_b.dot(theta) - y)\n",
        "    theta = theta - learning_rate * gradients\n",
        "print(\"Final theta:\", theta)"
      ]
    },
    {
      "cell_type": "markdown",
      "metadata": {},
      "source": [
        "Este código se implementa el descenso de gradiente para una regresión lineal simple. Primero, genera datos sintéticos: X con 100 valores aleatorios entre 0 y 2, y $y$ siguiendo la relación $y = 4 + 3X + \\text{ruido}$. Luego, agrega un término de sesgo a X (creando X_b) para incluir $\\theta_0$. Define hiperparámetros: una tasa de aprendizaje de 0.1 y 1000 iteraciones. Inicializa $\\theta$ (los parámetros $\\theta_0$ y $\\theta_1$) aleatoriamente y aplica el descenso de gradiente iterativamente, calculando los gradientes como $\\frac{2}{m} X_b^T (X_b \\theta - y)$ y actualizando $\\theta$ con la regla $\\theta = \\theta - \\alpha \\cdot \\text{gradientes}$. Finalmente, imprime los valores optimizados de $\\theta$."
      ]
    },
    {
      "cell_type": "markdown",
      "metadata": {},
      "source": [
        "# Ejmplos: Python funciones y clases\n"
      ]
    },
    {
      "cell_type": "markdown",
      "metadata": {},
      "source": [
        "## Simple Function:"
      ]
    },
    {
      "cell_type": "code",
      "execution_count": 48,
      "metadata": {},
      "outputs": [
        {
          "name": "stdout",
          "output_type": "stream",
          "text": [
            "Hello, Ana!\n"
          ]
        }
      ],
      "source": [
        "def greet(name):\n",
        "    return \"Hello, \" + name + \"!\"\n",
        "print(greet(\"Ana\")) # Output: Hello, Ana!"
      ]
    },
    {
      "cell_type": "markdown",
      "metadata": {},
      "source": [
        "Este código en Python define una función simple llamada greet que toma un parámetro name. La función concatena el texto \"Hello, \" con el valor de name y un signo de exclamación \"!\", retornando el saludo completo. Luego, se llama a la función con el argumento \"Ana\", y al ejecutar print(greet(\"Ana\")), se imprime el resultado: \"Hello, Ana!\". Es un ejemplo básico de cómo definir y usar una función en Python para generar un mensaje personalizado."
      ]
    },
    {
      "cell_type": "markdown",
      "metadata": {},
      "source": [
        "## Funcion con parametros y retornos:"
      ]
    },
    {
      "cell_type": "code",
      "execution_count": 65,
      "metadata": {},
      "outputs": [
        {
          "name": "stdout",
          "output_type": "stream",
          "text": [
            "12\n"
          ]
        }
      ],
      "source": [
        "def add_numbers(a, b):\n",
        "    sum = a + b\n",
        "    return sum\n",
        "\n",
        "result = add_numbers(5, 7)\n",
        "print(result) # Output: 12"
      ]
    },
    {
      "cell_type": "markdown",
      "metadata": {},
      "source": [
        "Este código en Python define una función add_numbers que toma dos parámetros, a y b. Dentro de la función, calcula la suma de a y b, la almacena en la variable sum, y retorna ese valor. Luego, se llama a la función con los argumentos 5 y 7, y el resultado (12) se guarda en la variable result. Finalmente, print(result) imprime el valor 12. Es un ejemplo sencillo de cómo crear y usar una función para realizar una operación aritmética básica."
      ]
    },
    {
      "cell_type": "markdown",
      "metadata": {},
      "source": [
        "## Funcion con parametros por defecto:"
      ]
    },
    {
      "cell_type": "code",
      "execution_count": 67,
      "metadata": {},
      "outputs": [
        {
          "name": "stdout",
          "output_type": "stream",
          "text": [
            "9\n",
            "8\n"
          ]
        }
      ],
      "source": [
        "def power(base, exponent=2):\n",
        "    return base ** exponent\n",
        "print(power(3)) # Output: 9\n",
        "print(power(2, 3)) # Output: 8"
      ]
    },
    {
      "cell_type": "markdown",
      "metadata": {},
      "source": [
        "Este código en Python define una función power que calcula la potencia de un número. Tiene dos parámetros: base y exponent, donde exponent tiene un valor por defecto de 2. La función retorna base elevado a exponent usando el operador **. Al llamar power(3), usa el valor por defecto de exponent, resultando en $3^2 = 9$. Al llamar power(2, 3), especifica exponent como 3, dando $2^3 = 8$. Es un ejemplo de cómo usar parámetros por defecto en funciones para hacerlas más flexibles."
      ]
    },
    {
      "cell_type": "markdown",
      "metadata": {},
      "source": [
        "## Functiones con multiplicadores y retornos:"
      ]
    },
    {
      "cell_type": "code",
      "execution_count": 68,
      "metadata": {},
      "outputs": [
        {
          "name": "stdout",
          "output_type": "stream",
          "text": [
            "2 9\n"
          ]
        }
      ],
      "source": [
        "def min_max(numbers):\n",
        "    return min(numbers), max(numbers)\n",
        "nums = [4, 9, 2, 7, 5]\n",
        "minimum, maximum = min_max(nums)\n",
        "print(minimum, maximum) # Output: 2 9"
      ]
    },
    {
      "cell_type": "markdown",
      "metadata": {},
      "source": [
        "Este código define una función min_max que toma una lista numbers y retorna dos valores: el mínimo y el máximo de la lista, usando las funciones integradas min() y max(). La lista nums contiene [4, 9, 2, 7, 5]. Al llamar min_max(nums), la función retorna 2 (mínimo) y 9 (máximo), que se asignan a las variables minimum y maximum mediante desempaquetado. Luego, print(minimum, maximum) imprime \"2 9\". Es un ejemplo de cómo una función puede retornar múltiples valores y cómo desempaquetarlos en variables."
      ]
    },
    {
      "cell_type": "markdown",
      "metadata": {},
      "source": [
        "## Functiones con Docstring:"
      ]
    },
    {
      "cell_type": "code",
      "execution_count": 71,
      "metadata": {},
      "outputs": [],
      "source": [
        "def area_of_rectangle(length, width):\n",
        "    \"\"\"\n",
        "    Calculates the area of a rectangle.\n",
        "    Args:\n",
        "        length (float): The length of the rectangle.\n",
        "        width (float): The width of the rectangle.\n",
        "    Returns:\n",
        "        float: The area of the rectangle.\n",
        "    \"\"\"\n",
        "    return length * width"
      ]
    },
    {
      "cell_type": "markdown",
      "metadata": {},
      "source": [
        "Este codigo define una función area_of_rectangle que calcula el área de un rectángulo. Toma dos parámetros, length (longitud) y width (ancho), ambos de tipo float según la documentación. La función multiplica length por width y retorna el resultado, que representa el área. La docstring explica el propósito de la función, los tipos de los argumentos y el valor retornado (un float). Es un ejemplo de cómo crear una función simple con documentación clara para calcular el área de un rectángulo."
      ]
    },
    {
      "cell_type": "markdown",
      "metadata": {},
      "source": [
        "## Creando una Clase Simple:"
      ]
    },
    {
      "cell_type": "code",
      "execution_count": 73,
      "metadata": {},
      "outputs": [
        {
          "name": "stdout",
          "output_type": "stream",
          "text": [
            "Buddy is barking!\n"
          ]
        }
      ],
      "source": [
        "class Dog:\n",
        "    def __init__(self, name, age):\n",
        "        self.name = name\n",
        "        self.age = age\n",
        "    def bark(self):\n",
        "        print(f\"{self.name} is barking!\")\n",
        "# Create an instance of the Dog class\n",
        "dog1 = Dog(\"Buddy\", 3)\n",
        "dog1.bark() # Output: Buddy is barking!"
      ]
    },
    {
      "cell_type": "markdown",
      "metadata": {},
      "source": [
        "Este código en Python define una clase Dog para modelar un perro. El método __init__ es el constructor, que inicializa dos atributos: name (nombre) y age (edad), usando los parámetros proporcionados. El método bark imprime un mensaje que indica que el perro (usando self.name) está ladrando. Se crea una instancia dog1 de la clase Dog con nombre \"Buddy\" y edad 3. Al llamar dog1.bark(), se ejecuta el método y se imprime \"Buddy is barking!\". Es un ejemplo básico de programación orientada a objetos, mostrando cómo definir una clase, crear un objeto y usar sus métodos."
      ]
    },
    {
      "cell_type": "markdown",
      "metadata": {},
      "source": [
        "## Adicionando Metodos y Atributos"
      ]
    },
    {
      "cell_type": "code",
      "execution_count": 78,
      "metadata": {},
      "outputs": [
        {
          "name": "stdout",
          "output_type": "stream",
          "text": [
            "Alice’s average grade: 88.5\n"
          ]
        }
      ],
      "source": [
        "class Student:\n",
        "    def __init__(self, name, age):\n",
        "        self.name = name\n",
        "        self.age = age\n",
        "        self.grades = []\n",
        "    def add_grade(self, grade):\n",
        "        self.grades.append(grade)\n",
        "    def get_average_grade(self):\n",
        "        return sum(self.grades) / len(self.grades)\n",
        "# Create a Student instance and add grades\n",
        "student1 = Student(\"Alice\", 18)\n",
        "student1.add_grade(85)\n",
        "student1.add_grade(92)\n",
        "average_grade = student1.get_average_grade()\n",
        "print(f\"{student1.name}’s average grade: {average_grade}\")"
      ]
    },
    {
      "cell_type": "markdown",
      "metadata": {},
      "source": [
        "Este código en Python define una clase Student para representar un estudiante. El constructor __init__ inicializa los atributos name (nombre), age (edad) y una lista vacía grades (notas). El método add_grade agrega una nota a la lista grades, y get_average_grade calcula el promedio de las notas dividiendo la suma de las notas entre su cantidad. Se crea una instancia student1 para \"Alice\", de 18 años, se añaden las notas 85 y 92, y se calcula su promedio (88.5). Al ejecutar print, se muestra \"Alice’s average grade: 88.5\". Es un ejemplo de cómo usar clases para gestionar datos y calcular estadísticas."
      ]
    },
    {
      "cell_type": "markdown",
      "metadata": {},
      "source": [
        "## Inheritance"
      ]
    },
    {
      "cell_type": "code",
      "execution_count": 80,
      "metadata": {},
      "outputs": [
        {
          "name": "stdout",
          "output_type": "stream",
          "text": [
            "Whiskers says Meow!\n",
            "Buddy says Woof!\n"
          ]
        }
      ],
      "source": [
        "class Animal:\n",
        "    def __init__(self, name):\n",
        "        self.name = name\n",
        "    def speak(self):\n",
        "        pass # Placeholder for subclasses to override\n",
        "class Cat(Animal):\n",
        "    def speak(self):\n",
        "        print(f\"{self.name} says Meow!\")\n",
        "class Dog(Animal):\n",
        "    def speak(self):\n",
        "        print(f\"{self.name} says Woof!\")\n",
        "# Create instances of Cat and Dog\n",
        "cat = Cat(\"Whiskers\")\n",
        "dog = Dog(\"Buddy\")\n",
        "cat.speak() # Output: Whiskers says Meow!\n",
        "dog.speak() # Output: Buddy says Woof!"
      ]
    },
    {
      "cell_type": "markdown",
      "metadata": {},
      "source": [
        "Este código en Python demuestra la herencia en programación orientada a objetos. La clase base Animal tiene un constructor que inicializa el atributo name y un método speak vacío como marcador. Las clases Cat y Dog heredan de Animal y sobrescriben el método speak para que cada una imprima un sonido específico: \"Meow\" para Cat y \"Woof\" para Dog. Se crean instancias cat (\"Whiskers\") y dog (\"Buddy\"), y al llamar speak() en cada una, se imprime \"Whiskers says Meow!\" y \"Buddy says Woof!\". Es un ejemplo de cómo la herencia permite reutilizar código y especializar comportamientos en subclases."
      ]
    },
    {
      "cell_type": "markdown",
      "metadata": {},
      "source": [
        "# EJERCICIOS"
      ]
    },
    {
      "cell_type": "markdown",
      "metadata": {},
      "source": [
        "## 3.1 Indexing Arrays in NumPy\n",
        "1. Dado el arreglo de NumPy `arr = np.array([3, 7, 1, 9, 5])`, realiza las siguientes operaciones:\n",
        "\n",
        "   - Recupera el tercer elemento del arreglo (índice 2 a índice 3). \n",
        "   - Selecciona los elementos desde el índice 1 hasta el índice 3 (sin incluir el índice 3). \n",
        "   - Cambia el valor del cuarto elemento a 12.  "
      ]
    },
    {
      "cell_type": "code",
      "execution_count": 96,
      "metadata": {},
      "outputs": [
        {
          "name": "stdout",
          "output_type": "stream",
          "text": [
            "1\n",
            "[7 1 9]\n",
            "12\n"
          ]
        }
      ],
      "source": [
        "arr = np.array([3, 7, 1, 9, 5])\n",
        "print(arr[2]) \n",
        "print(arr[1:4])\n",
        "arr[3] = 12\n",
        "print(arr[3])"
      ]
    },
    {
      "cell_type": "markdown",
      "metadata": {},
      "source": [
        "2. Crea una matriz 2D en NumPy con los siguientes valores:\n",
        "\n",
        "$$\n",
        "\\begin{bmatrix}\n",
        "1 & 2 & 3 \\\\\n",
        "4 & 5 & 6 \\\\\n",
        "7 & 8 & 9\n",
        "\\end{bmatrix}\n",
        "$$\n",
        "\n",
        "   a) Recupera el elemento en la segunda fila y tercera columna.  \n",
        "   b) Corta la matriz para obtener la submatriz que consiste en las primeras dos filas y todas las columnas."
      ]
    },
    {
      "cell_type": "code",
      "execution_count": 95,
      "metadata": {},
      "outputs": [
        {
          "name": "stdout",
          "output_type": "stream",
          "text": [
            "6\n",
            "[[1 2 3]\n",
            " [4 5 6]]\n"
          ]
        }
      ],
      "source": [
        "arr = np.array([[1, 2, 3], [4, 5, 6], [7, 8, 9]])\n",
        "print(arr[1, 2]) # Output: 6\n",
        "print(arr[:2, 0:]) # Output: [[2 3] [5 6]]"
      ]
    },
    {
      "cell_type": "markdown",
      "metadata": {},
      "source": [
        "## 3.2 Indexing and Slicing Higher-Dimensional Tensors\n",
        "\n",
        "Considera el siguiente tensor 3D que representa un conjunto de matrices:\n",
        "\n",
        "$$\n",
        "\\text{tensor} = \\begin{bmatrix}\n",
        "\\begin{bmatrix} 1 & 2 & 3 & 4 \\\\ 5 & 6 & 7 & 8 \\\\ 9 & 10 & 11 & 12 \\end{bmatrix}, \\quad\n",
        "\\begin{bmatrix} 13 & 14 & 15 & 16 \\\\ 17 & 18 & 19 & 20 \\\\ 21 & 22 & 23 & 24 \\end{bmatrix}, \\quad\n",
        "\\begin{bmatrix} 25 & 26 & 27 & 28 \\\\ 29 & 30 & 31 & 32 \\\\ 33 & 34 & 35 & 36 \\end{bmatrix}\n",
        "\\end{bmatrix}\n",
        "$$\n",
        "\n",
        "1. Recupera el elemento en la posición (1, 0, 2) dentro del tensor.  \n",
        "2. Corta el tensor para obtener el sub-tensor 3 x 4 que corresponde a la segunda \"matriz\" (slice) a lo largo de la primera dimensión.  \n",
        "3. Corta el tensor para obtener el subtensor 2 x 4 que corresponde a la última fila de las dos últimas matrices.\n",
        "4. Recupera el elemento en la posición (2, 1, 3) dentro del tensor.  \n",
        "5. Corta el tensor para obtener el subtensor 2 x 4 que corresponde a la primera fila de las dos últimas matrices.\n",
        "\n",
        "**Nota:** Recuerda que en la indexación de NumPy, el primer índice corresponde a la dimensión más externa, el segundo índice a la dimensión interna siguiente, y así sucesivamente."
      ]
    },
    {
      "cell_type": "code",
      "execution_count": 112,
      "metadata": {},
      "outputs": [
        {
          "name": "stdout",
          "output_type": "stream",
          "text": [
            "1-->  15\n",
            "2-->  [[13 14 15 16]\n",
            " [17 18 19 20]\n",
            " [21 22 23 24]]\n",
            "3-->  [[21 22 23 24]\n",
            " [33 34 35 36]]\n",
            "4-->  32\n",
            "5-->  [[ 1  2  3  4]\n",
            " [13 14 15 16]]\n"
          ]
        }
      ],
      "source": [
        "tensor = np.array([[[1, 2, 3, 4], [5, 6, 7, 8], [9, 10, 11, 12]],\n",
        "                   [[13, 14, 15, 16], [17, 18, 19, 20], [21, 22, 23, 24]],\n",
        "                   [[25, 26, 27, 28], [29, 30, 31, 32], [33, 34, 35, 36]]])\n",
        "\n",
        "print(\"1--> \", tensor[1, 0, 2])\n",
        "print(\"2--> \", tensor[1])\n",
        "print(\"3--> \", tensor[1:, 2, :])\n",
        "print(\"4--> \", tensor[2, 1, 3])\n",
        "print(\"5--> \", tensor[:2, 0, :])"
      ]
    },
    {
      "cell_type": "markdown",
      "metadata": {},
      "source": [
        "## 3.3 Defining Functions in Python\n",
        "\n",
        "1. Escribe una función Python calcular promedio que tome una lista de números como entrada y devuelva el promedio de esos números.\n",
        "2. Define una función encontrar potencia que calcule el resultado de un número elevado a un exponente dado. La función debe tener dos parámetros: base (el\n",
        "número base) y exponente (el valor por defecto debe ser 2)."
      ]
    },
    {
      "cell_type": "code",
      "execution_count": 114,
      "metadata": {},
      "outputs": [
        {
          "name": "stdout",
          "output_type": "stream",
          "text": [
            "El promedio obtenido es:  86.25\n"
          ]
        }
      ],
      "source": [
        "def promedio(notas):\n",
        "    return sum(notas) / len(notas)\n",
        "notas = [85, 90, 78, 92]\n",
        "print(\"El promedio obtenido es: \", promedio(notas)) "
      ]
    },
    {
      "cell_type": "code",
      "execution_count": 116,
      "metadata": {},
      "outputs": [
        {
          "name": "stdout",
          "output_type": "stream",
          "text": [
            "El resultado de la potencia sin exponente dado por el usuario es:  9\n",
            "El resultado de la potencia dado por el usuario es:  27\n"
          ]
        }
      ],
      "source": [
        "def encontrar_potencia(base, exponente=2):\n",
        "    return base ** exponente\n",
        "print(\"El resultado de la potencia sin exponente dado por el usuario es: \",encontrar_potencia(3)) \n",
        "print(\"El resultado de la potencia dado por el usuario es: \",encontrar_potencia(3, 3))"
      ]
    },
    {
      "cell_type": "markdown",
      "metadata": {},
      "source": [
        "## 3.4 Implementing Gradient Descent Optimization\n",
        "\n",
        "1. Considera el problema de regresión lineal donde tienes los siguientes datos de puntos:\n",
        "\n",
        "   $$\n",
        "   X = [1, 2, 3, 4, 5], \\quad y = [3,6, 8, 11, 13]\n",
        "   $$\n",
        "\n",
        "   Implementa un programa en Python usando NumPy para realizar la optimización por descenso de gradiente y encontrar los parámetros $\\theta_0$ y $\\theta_1$ para el modelo $h_\\theta(x) = \\theta_0 + \\theta_1 x$. Usa una tasa de aprendizaje de 0.01 y realiza 1000 iteraciones.\n",
        "\n",
        "2. Dibuja un gráfico que muestre la progresión de los parámetros $\\theta_0$ y $\\theta_1$ a través de las iteraciones.\n",
        "\n",
        "3. Explica con tus propias palabras el propósito de la tasa de aprendizaje en la optimización por descenso de gradiente."
      ]
    },
    {
      "cell_type": "code",
      "execution_count": 15,
      "metadata": {},
      "outputs": [
        {
          "name": "stdout",
          "output_type": "stream",
          "text": [
            "theta inicial: [[ 0.95008842]\n",
            " [-0.15135721]]\n",
            "Final theta: [[0.86838858]\n",
            " [2.45335906]]\n"
          ]
        },
        {
          "data": {
            "image/png": "[encoded data removed]",
            "text/plain": [
              "<Figure size 1000x500 with 2 Axes>"
            ]
          },
          "metadata": {},
          "output_type": "display_data"
        }
      ],
      "source": [
        "# Datos del problema (en lugar de datos generados aleatoriamente)\n",
        "X = np.array([1, 2, 3, 4, 5]).reshape(-1, 1)  # Reshape para que sea una matriz columna\n",
        "y = np.array([3, 6, 8, 11, 13]).reshape(-1, 1)  # Reshape para que sea una matriz columna\n",
        "\n",
        "# Añadir el término de sesgo a X\n",
        "X_b = np.c_[np.ones((5, 1)), X]  # X_b tendrá forma (5, 2)\n",
        "\n",
        "# Hiperparámetros\n",
        "learning_rate = 0.01  # Ajustado según el problema 3.4\n",
        "n_iterations = 1000\n",
        "\n",
        "# Inicializar los parámetros \n",
        "theta = np.random.randn(2, 1)  # theta = [theta_0, theta_1]\n",
        "print(\"theta inicial:\", theta)\n",
        "\n",
        "# Listas para almacenar la progresión de theta_0 y theta_1 (para el gráfico del inciso 2)\n",
        "theta_0_history = []\n",
        "theta_1_history = []\n",
        "\n",
        "m = len(X) # Número de ejemplos de entrenamiento\n",
        "\n",
        "# Descenso de gradiente\n",
        "for iteration in range(n_iterations):\n",
        "    gradients = (1 / m) * X_b.T.dot(X_b.dot(theta) - y)  # Ajustamos la fórmula del gradiente\n",
        "    theta = theta - learning_rate * gradients\n",
        "    # Almacenar los valores de theta para graficar\n",
        "    theta_0_history.append(theta[0, 0])\n",
        "    theta_1_history.append(theta[1, 0])\n",
        "\n",
        "theta_0_history = np.array(theta_0_history)\n",
        "theta_1_history = np.array(theta_1_history)\n",
        "\n",
        "# Imprimir los parámetros finales\n",
        "print(\"Final theta:\", theta)\n",
        "\n",
        "# Inciso 2: Graficar la progresión de theta_0 y theta_1\n",
        "plt.figure(figsize=(10, 5))\n",
        "\n",
        "plt.subplot(1, 2, 1)\n",
        "plt.plot(theta_0_history, label=r'$\\theta_0$')\n",
        "plt.xlabel('Iteración')\n",
        "plt.ylabel(r'$\\theta_0$')\n",
        "plt.title(r'Progresión de $\\theta_0$')\n",
        "plt.grid(True)\n",
        "plt.legend()\n",
        "\n",
        "plt.subplot(1, 2, 2)\n",
        "plt.plot(theta_1_history, label=r'$\\theta_1$', color='orange')\n",
        "plt.xlabel('Iteración')\n",
        "plt.ylabel(r'$\\theta_1$')\n",
        "plt.title(r'Progresión de $\\theta_1$')\n",
        "plt.grid(True)\n",
        "plt.legend()\n",
        "\n",
        "plt.tight_layout()\n",
        "plt.show()"
      ]
    },
    {
      "cell_type": "markdown",
      "metadata": {},
      "source": [
        "La tasa de aprendizaje es fundamental porque afecta directamente la eficacia y la velocidad del entrenamiento del modelo, su propósito es determinar qué tan rápido o lento se ajustan los parámetros en la dirección opuesta al gradiente. Una tasa inadecuada puede hacer que el modelo no aprenda correctamente o que el proceso sea ineficiente, desperdiciando recursos computacionales.En problemas como la regresión lineal, una buena tasa de aprendizaje permite que el modelo encuentre los parámetros óptimos de forma precisa y en un número razonable de iteraciones, mejorando el rendimiento y la utilidad del modelo."
      ]
    }
  ],
  "metadata": {
    "colab": {
      "provenance": []
    },
    "kernelspec": {
      "display_name": "Python 3",
      "name": "python3"
    },
    "language_info": {
      "codemirror_mode": {
        "name": "ipython",
        "version": 3
      },
      "file_extension": ".py",
      "mimetype": "text/x-python",
      "name": "python",
      "nbconvert_exporter": "python",
      "pygments_lexer": "ipython3",
      "version": "3.10.0"
    }
  },
  "nbformat": 4,
  "nbformat_minor": 0
}
